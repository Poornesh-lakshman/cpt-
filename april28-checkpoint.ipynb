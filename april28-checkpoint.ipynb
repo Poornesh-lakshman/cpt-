{
 "cells": [
  {
   "cell_type": "code",
   "execution_count": 3,
   "id": "b9e42068-8dab-4639-9978-760146bf9bb5",
   "metadata": {},
   "outputs": [
    {
     "name": "stdout",
     "output_type": "stream",
     "text": [
      "4\n",
      "72\n"
     ]
    }
   ],
   "source": [
    "def a(x,y=1):\n",
    "    return x*y\n",
    "print(a(4))\n",
    "print(a(8,9))"
   ]
  },
  {
   "cell_type": "code",
   "execution_count": 11,
   "id": "12e18ce5-2cae-4867-8961-6740a5e37278",
   "metadata": {},
   "outputs": [
    {
     "name": "stdout",
     "output_type": "stream",
     "text": [
      "21\n"
     ]
    }
   ],
   "source": [
    "def sumnum(*args):\n",
    "    return sum(args)\n",
    "print(sumnum(1,4,7,9))"
   ]
  },
  {
   "cell_type": "code",
   "execution_count": 19,
   "id": "24e2f88f-56c7-41f3-908f-a9b4961acea3",
   "metadata": {},
   "outputs": [
    {
     "name": "stdout",
     "output_type": "stream",
     "text": [
      "name:pika\n",
      "age:10\n",
      "city:luru\n"
     ]
    }
   ],
   "source": [
    "def info(**kwargs):\n",
    "    for key,value in kwargs.items():\n",
    "        print(f\"{key}:{value}\")\n",
    "info(name='pika',age=10,city='luru')"
   ]
  },
  {
   "cell_type": "code",
   "execution_count": 21,
   "id": "1fb2cc93-62e9-4866-a01e-4eacafbf3424",
   "metadata": {},
   "outputs": [
    {
     "name": "stdout",
     "output_type": "stream",
     "text": [
      "16\n",
      "14\n"
     ]
    }
   ],
   "source": [
    "sq=lambda a: a*a\n",
    "print(sq(4))\n",
    "add=lambda x,y:x+y\n",
    "print(add(5,9))"
   ]
  },
  {
   "cell_type": "code",
   "execution_count": 39,
   "id": "7c63d2b1-4977-4ee5-9436-42122ee3da73",
   "metadata": {},
   "outputs": [
    {
     "name": "stdout",
     "output_type": "stream",
     "text": [
      "min:1 max: 5 avg:3.0\n"
     ]
    }
   ],
   "source": [
    "def fun(*args):\n",
    "    \n",
    "    avg=sum(args)/len(args)\n",
    "    return f\"min:{min(args)} max: {max(args)} avg:{avg}\"\n",
    "print(fun(1,2,3,4,5))"
   ]
  },
  {
   "cell_type": "raw",
   "id": "31f21ca9-6800-4c99-993f-3de109d2b84f",
   "metadata": {},
   "source": [
    "##Recursions Types: ##\n",
    "\n",
    "1.Direct\n",
    "2.InDirect\n",
    "3.Head/Non-Tail\n",
    "4.Tail\n",
    "5.Linear\n",
    "6.Binary\n",
    "7.Multiple\n",
    "8.Nested\n",
    "9.Mutual\n",
    "10.Divide and conque\n",
    "11.Tree\n",
    "12.Absolute/Static"
   ]
  },
  {
   "cell_type": "code",
   "execution_count": 48,
   "id": "a9cc596e-a53b-4061-b7d5-851b51aabb36",
   "metadata": {},
   "outputs": [
    {
     "name": "stdout",
     "output_type": "stream",
     "text": [
      "120\n"
     ]
    }
   ],
   "source": [
    "#recursive fact\n",
    "#direct\n",
    "def fact(n):\n",
    "    if n==0 or n==1:\n",
    "        return 1\n",
    "    \n",
    "    return  fact(n-1)\n",
    "\n",
    "print(fact(5))"
   ]
  },
  {
   "cell_type": "code",
   "execution_count": 56,
   "id": "e42757af-0926-4553-be66-93c2f8529d45",
   "metadata": {},
   "outputs": [
    {
     "name": "stdout",
     "output_type": "stream",
     "text": [
      "True\n",
      "False\n"
     ]
    }
   ],
   "source": [
    "#in-direct\n",
    "def is_even(n):\n",
    "    if n==0:\n",
    "        return True\n",
    "    return is_odd(n-1)\n",
    "def is_odd(n):\n",
    "    if n==0:\n",
    "        return False\n",
    "    return is_even(n-1)\n",
    "print(is_even(4))\n",
    "print(is_odd(6))"
   ]
  },
  {
   "cell_type": "code",
   "execution_count": 68,
   "id": "6a9e17cb-d5a5-45e3-b7b7-177aaf6bbc5b",
   "metadata": {},
   "outputs": [
    {
     "name": "stdout",
     "output_type": "stream",
     "text": [
      "True\n",
      "True\n"
     ]
    }
   ],
   "source": [
    "def is_pal(st):\n",
    "    if len(st)<=1:\n",
    "        return True\n",
    "    return check_palin(0,len(st)-1,st)\n",
    "def check_palin(start,end,st):\n",
    "    if start>=end:\n",
    "        return True\n",
    "    if st[start]!=st[end]:\n",
    "        return False\n",
    "    return is_pal(st[start+1:end])\n",
    "print(is_pal('level'))\n",
    "print(is_pal('racer')"
   ]
  },
  {
   "cell_type": "code",
   "execution_count": 72,
   "id": "107957c7-e88c-4d81-87a1-c87ae66a1ca0",
   "metadata": {},
   "outputs": [
    {
     "name": "stdout",
     "output_type": "stream",
     "text": [
      "120\n"
     ]
    }
   ],
   "source": [
    "#Tail recursive\n",
    "def ftail(n,acc=1):\n",
    "    if n==0 or n==1:\n",
    "        return acc\n",
    "    return ftail(n-1,n*acc)\n",
    "print(ftail(5))"
   ]
  },
  {
   "cell_type": "code",
   "execution_count": 74,
   "id": "c6b3ff72-568d-4f75-a77f-cdaab769b1ee",
   "metadata": {},
   "outputs": [
    {
     "name": "stdout",
     "output_type": "stream",
     "text": [
      "5\n"
     ]
    }
   ],
   "source": [
    "#nested recursive\n",
    "def ackermann(m,n):\n",
    "    if m==0:\n",
    "        return n+1\n",
    "    elif m>0 and n==0:\n",
    "        return ackermann(m-1,1)\n",
    "    else:\n",
    "        return ackermann(m-1,ackermann(m,n-1))\n",
    "print(ackermann(2,1))\n"
   ]
  },
  {
   "cell_type": "code",
   "execution_count": 80,
   "id": "e7427333-f509-4257-ba17-b48fd7eb45a6",
   "metadata": {},
   "outputs": [
    {
     "name": "stdout",
     "output_type": "stream",
     "text": [
      "12\n"
     ]
    }
   ],
   "source": [
    "#Nested recursive\n",
    "#Super factorial\n",
    "def sfact(n):\n",
    "    if n<=0:\n",
    "         return 1\n",
    "    return fact(n)*sfact(n-1)\n",
    "def fact(n):\n",
    "    if n<=1:\n",
    "        return 1\n",
    "    return n*fact(n-1)\n",
    "print(sfact(3))"
   ]
  },
  {
   "cell_type": "code",
   "execution_count": 82,
   "id": "dd50dddd-45fa-4320-b71b-eff2292ca36f",
   "metadata": {},
   "outputs": [
    {
     "name": "stdout",
     "output_type": "stream",
     "text": [
      "16\n",
      "27\n"
     ]
    }
   ],
   "source": [
    "#power tower - nested recursion\n",
    "def pt(a,n):\n",
    "    if n==1:\n",
    "        return a\n",
    "    return a**pt(a,n-1)\n",
    "\n",
    "\n",
    "print(pt(2,3))\n",
    "print(pt(3,2))"
   ]
  },
  {
   "cell_type": "code",
   "execution_count": null,
   "id": "c498962d-e094-4197-bf5d-9ad01007b399",
   "metadata": {},
   "outputs": [],
   "source": []
  }
 ],
 "metadata": {
  "kernelspec": {
   "display_name": "Python 3 (ipykernel)",
   "language": "python",
   "name": "python3"
  },
  "language_info": {
   "codemirror_mode": {
    "name": "ipython",
    "version": 3
   },
   "file_extension": ".py",
   "mimetype": "text/x-python",
   "name": "python",
   "nbconvert_exporter": "python",
   "pygments_lexer": "ipython3",
   "version": "3.12.7"
  }
 },
 "nbformat": 4,
 "nbformat_minor": 5
}
